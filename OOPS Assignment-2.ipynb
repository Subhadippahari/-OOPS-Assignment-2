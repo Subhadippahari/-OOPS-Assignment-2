{
 "cells": [
  {
   "cell_type": "markdown",
   "id": "eef90d8b-85de-4217-8dec-f7dfd6f8e0e7",
   "metadata": {},
   "source": [
    "Q1. What is Abstraction in OOps? Explain with an example."
   ]
  },
  {
   "cell_type": "markdown",
   "id": "f88f00bc-a05b-4377-9c73-b2b8a828349e",
   "metadata": {},
   "source": [
    "In object-oriented programming, abstraction is one of three central principles (along with encapsulation and inheritance). Through the process of abstraction, a programmer hides all but the relevant data about an object in order to reduce complexity and increase efficiency."
   ]
  },
  {
   "cell_type": "code",
   "execution_count": 2,
   "id": "bb0f22eb-3d2b-48ba-9ce7-ee9d4b5e5a5d",
   "metadata": {},
   "outputs": [],
   "source": [
    "import abc\n",
    "class details:\n",
    "    @abc.abstractmethod\n",
    "    def name(self):\n",
    "        pass\n",
    "    @abc.abstractmethod\n",
    "    def email_id(self):\n",
    "        pass\n",
    "    @abc.abstractmethod\n",
    "    def mobile_number(self):\n",
    "        pass"
   ]
  },
  {
   "cell_type": "code",
   "execution_count": 4,
   "id": "ef6b6f7f-ce5c-45c7-8b85-14e6193d746b",
   "metadata": {},
   "outputs": [],
   "source": [
    "class student_details1(details):\n",
    "    def name(self):\n",
    "        return \"subhadip pahari\"\n",
    "    def email_id(self):\n",
    "        return \"subha@gmail.com\"\n",
    "    def mobile_number(self):\n",
    "        return 213425"
   ]
  },
  {
   "cell_type": "code",
   "execution_count": 5,
   "id": "33a03531-a9e9-4cf5-8fce-72c0c0297567",
   "metadata": {},
   "outputs": [],
   "source": [
    "class student_details2(details):\n",
    "    def name(self):\n",
    "        return\"subha\"\n",
    "    def email_id(self):\n",
    "        return \"dip@gmail.com\"\n",
    "    def mobile_number(self):\n",
    "        return 324253"
   ]
  },
  {
   "cell_type": "code",
   "execution_count": 6,
   "id": "ee2663f3-92b2-4315-8cf2-b6a4c66c28ca",
   "metadata": {},
   "outputs": [],
   "source": [
    "abc=student_details1()"
   ]
  },
  {
   "cell_type": "code",
   "execution_count": 8,
   "id": "d6d7c561-8fa3-4fb4-aaaa-021b0d46c234",
   "metadata": {},
   "outputs": [
    {
     "data": {
      "text/plain": [
       "'subhadip pahari'"
      ]
     },
     "execution_count": 8,
     "metadata": {},
     "output_type": "execute_result"
    }
   ],
   "source": [
    "abc.name()"
   ]
  },
  {
   "cell_type": "code",
   "execution_count": 10,
   "id": "a61312a4-4290-4af8-9d81-2709ec4bb419",
   "metadata": {},
   "outputs": [],
   "source": [
    "defg=student_details2()"
   ]
  },
  {
   "cell_type": "code",
   "execution_count": 12,
   "id": "4d223a0e-317c-44d7-923a-7d2b5101391f",
   "metadata": {},
   "outputs": [
    {
     "data": {
      "text/plain": [
       "324253"
      ]
     },
     "execution_count": 12,
     "metadata": {},
     "output_type": "execute_result"
    }
   ],
   "source": [
    "defg.mobile_number()"
   ]
  },
  {
   "cell_type": "markdown",
   "id": "eed7f87d-3f3e-4ac2-9ee4-828614b7e202",
   "metadata": {},
   "source": [
    "Q2. Differentiate between Abstraction and Encapsulation. Explain with an example."
   ]
  },
  {
   "cell_type": "markdown",
   "id": "44560e54-2bed-4e17-8f27-99b0e4df7cfd",
   "metadata": {},
   "source": [
    "Abstraction is a design level process and it is used to reduce the complexity at the designing stage of a project. Encapsulation is an implementation level process, and it is used to provide privacy and maintain control over the transparency of data at the implementation stage of a project"
   ]
  },
  {
   "cell_type": "code",
   "execution_count": 18,
   "id": "750cc215-4f7f-4138-8974-ac66dae9e0a9",
   "metadata": {},
   "outputs": [],
   "source": [
    "import abc\n",
    "class salary_details:\n",
    "    def __init__(self,emp_name,emp_id,emp_salary):\n",
    "        self.__emp_name=emp_name\n",
    "        self.__emp_id=emp_id\n",
    "        self.__emp_salary=emp_salary\n",
    "        "
   ]
  },
  {
   "cell_type": "code",
   "execution_count": 19,
   "id": "8bec2c72-2e75-4755-b3eb-49097a1c6593",
   "metadata": {},
   "outputs": [],
   "source": [
    "pw=salary_details(\"subhadip\",\"ad35435\",2543165137)"
   ]
  },
  {
   "cell_type": "markdown",
   "id": "bffc6b8d-ded6-4c9b-94a2-bc0f0c258140",
   "metadata": {},
   "source": [
    "if we put that we are unable to get anser . becatuse user is unable to acess the section this is called encapculationpw.emp_name()"
   ]
  },
  {
   "cell_type": "code",
   "execution_count": 21,
   "id": "0fd5fa87-2806-41b7-9ad6-1a0a77ee908c",
   "metadata": {},
   "outputs": [
    {
     "data": {
      "text/plain": [
       "2543165137"
      ]
     },
     "execution_count": 21,
     "metadata": {},
     "output_type": "execute_result"
    }
   ],
   "source": [
    "pw._salary_details__emp_salary"
   ]
  },
  {
   "cell_type": "markdown",
   "id": "0f4b59b0-1b9a-43a0-b0f5-695045c28d00",
   "metadata": {},
   "source": [
    "Thats how we can acess the perticuler section"
   ]
  },
  {
   "cell_type": "markdown",
   "id": "ae640d09-aeee-456b-a883-3534a21d0a0a",
   "metadata": {},
   "source": [
    "Q3. What is abc module in python? Why is it used?"
   ]
  },
  {
   "cell_type": "markdown",
   "id": "6ab384a8-66e7-4a3c-aac0-3ff5c87ea9c5",
   "metadata": {},
   "source": [
    "The 'abc' module in Python library provides the infrastructure for defining custom abstract base classes. 'abc' works by marking methods of the base class as abstract. This is done by @absttractmethod decorator."
   ]
  },
  {
   "cell_type": "markdown",
   "id": "c5c2c6e0-a7c3-4148-bc70-863e35d57569",
   "metadata": {},
   "source": [
    "Q4. How can we achieve data abstraction?"
   ]
  },
  {
   "cell_type": "markdown",
   "id": "cb14d7b9-1f8c-44b6-b1a2-359f452795b8",
   "metadata": {},
   "source": [
    "Data Abstraction in Python can be achieved through creating abstract classes and inheriting them later. Before discussing what abstract classes are, let us have a brief introduction of inheritance. Inheritance in OOP is a way through which one class inherits the attributes and methods of another class."
   ]
  },
  {
   "cell_type": "markdown",
   "id": "d3eba6fb-a1e3-48cd-9e6e-7b9eeca711bb",
   "metadata": {},
   "source": [
    "Q5. Can we create an instance of an abstract class? Explain your answer."
   ]
  },
  {
   "cell_type": "code",
   "execution_count": null,
   "id": "098ec893-ead8-4026-bc79-f917f0e6a829",
   "metadata": {},
   "outputs": [],
   "source": []
  }
 ],
 "metadata": {
  "kernelspec": {
   "display_name": "Python 3 (ipykernel)",
   "language": "python",
   "name": "python3"
  },
  "language_info": {
   "codemirror_mode": {
    "name": "ipython",
    "version": 3
   },
   "file_extension": ".py",
   "mimetype": "text/x-python",
   "name": "python",
   "nbconvert_exporter": "python",
   "pygments_lexer": "ipython3",
   "version": "3.10.8"
  }
 },
 "nbformat": 4,
 "nbformat_minor": 5
}
